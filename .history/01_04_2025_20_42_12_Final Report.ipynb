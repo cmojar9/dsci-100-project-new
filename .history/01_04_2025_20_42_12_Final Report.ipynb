{
 "cells": [
  {
   "cell_type": "markdown",
   "id": "34735608-2732-48a1-a344-8f8084956bba",
   "metadata": {},
   "source": [
    "# The Influence of Player Behaviour on Newsletter Sign-ups"
   ]
  },
  {
   "cell_type": "markdown",
   "id": "84bea401-0423-405b-b02f-3fe4a857bd0a",
   "metadata": {},
   "source": [
    "## Introduction\n",
    "\n"
   ]
  },
  {
   "cell_type": "markdown",
   "id": "48d89b31-00c2-4bbe-becc-24c07be0e06a",
   "metadata": {},
   "source": [
    "The purpose of this data science project is to analyze and predict player behaviours on a Minecraft server based on data collected by a UBC Computer Science research group. This data consisted of two primary files: players.csv and sessions.csv. The players.csv file included detailed information about each player, such as their age, experience level, email, and other personal traits. The sessions.csv file tracked individual play sessions for each player based on their email, including data on session times. The specific question we addressed in this project is: Do players' age and experience level corellate to subscription status?\n",
    "\n",
    "By analyzing both the age and the experience level of a player, we will build a predictive model (K-NN Classification) to assess the likelihood of player subscribing to the newsletter based on such characteristics.\n",
    "\n",
    "\n",
    "To answer this question, we focus solely on using the players.csv dataset file, as it includes the relevant characteristics (age and experience level) we will be using to hypothesize a player's subscription behaviour. This will involve exploring the dataset to understand the relationships between these variables and subscription status, followed by the development and assessment of the accuracy of our model to form predictions. \n",
    "\n"
   ]
  },
  {
   "cell_type": "markdown",
   "id": "ca0d2e39-de57-4269-89f0-8e17e0cdf9cd",
   "metadata": {},
   "source": [
    "## Methods"
   ]
  },
  {
   "cell_type": "markdown",
   "id": "7a171497-affb-473b-8435-edddf814ab53",
   "metadata": {},
   "source": [
    "Include stuff about class imbalance, one-hot encoding (since one of our predictors is not number), tuning to get best value of K, training and testing data"
   ]
  },
  {
   "cell_type": "code",
   "execution_count": null,
   "id": "0fc7d27a-53c1-41be-9b86-66d3a795cd75",
   "metadata": {},
   "outputs": [],
   "source": []
  }
 ],
 "metadata": {
  "kernelspec": {
   "display_name": "R",
   "language": "R",
   "name": "ir"
  },
  "language_info": {
   "codemirror_mode": "r",
   "file_extension": ".r",
   "mimetype": "text/x-r-source",
   "name": "R",
   "pygments_lexer": "r",
   "version": "4.3.3"
  }
 },
 "nbformat": 4,
 "nbformat_minor": 5
}
