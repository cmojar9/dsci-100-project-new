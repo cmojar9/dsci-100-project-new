{
 "cells": [
  {
   "cell_type": "markdown",
   "id": "bb8f14c9",
   "metadata": {},
   "source": [
    "# Predicting Game Newsletter Subscription Using K-Nearest Neighbors"
   ]
  },
  {
   "cell_type": "markdown",
   "id": "d221cec4",
   "metadata": {
    "jp-MarkdownHeadingCollapsed": true
   },
   "source": [
    "## Introduction\n",
    "The purpose of this data science project is to analyze and predict player behaviours on a Minecraft server based on data collected by a UBC Computer Science research group. This data consisted of two primary files: players.csv and sessions.csv. The players.csv file included detailed information about each player, such as their age, experience level, email, and other personal traits. The sessions.csv file tracked individual play sessions for each player based on their email, including data on session times. \n",
    "\n",
    "\n",
    "\n",
    "### Research Question\n",
    "\n",
    "**What player characteristics and behaviors are most predictive of subscribing to a game-related newsletter, and how do these features differ between various player types?**\n",
    "\n",
    "The specific question we addressed in this project is: \"Can experience level, age, and total hours played predict newsletter subscription?\"\n",
    "\n",
    "By analyzing the age, total hours played, and experience level of a player, we will build a predictive model (K-NN Classification) to assess the likelihood of a player subscribing to the newsletter based on such characteristics.\n",
    "\n",
    "\n",
    "To answer this question, we focus solely on using the players.csv dataset file, as it includes the relevant characteristics we will be using to hypothesize a player's subscription behaviour. This will involve exploring the dataset to understand the relationships between these variables and subscription status, followed by the development and assessment of the accuracy of our model to form predictions. \n",
    "\n",
    "\n",
    "\n",
    "### Dataset Description\n",
    "\n",
    "The `players` dataset contains 196 observations with the following variables:\n",
    "\n",
    "- `experience` (chr): Player experience level (Pro, Veteran, Regular, Amateur)\n",
    "- `subscribe` (lgl): Whether the player subscribed to the newsletter\n",
    "- `played_hours` (dbl): Total hours played\n",
    "- `Age` (dbl): Player's age\n",
    "- `gender` (chr): Player's gender (not used in this analysis)\n",
    "- `hashedEmail` (chr): Player's email (not used in this analysis)\n",
    "- `name` (chr): Player's name (not used in this analysis)\n",
    "\n",
    "This analysis uses techniques covered in the DSCI 100 course, including data wrangling, visualization, and K-Nearest Neighbors classification.\n"
   ]
  },
  {
   "cell_type": "markdown",
   "id": "fa97699a-c5aa-4982-a0ca-77c80d55fcd0",
   "metadata": {},
   "source": [
    "## Methods and Results"
   ]
  },
  {
   "cell_type": "markdown",
   "id": "cb33330a-c57d-4615-9d75-0794b63df3e0",
   "metadata": {},
   "source": [
    "K-NN classifies new observations by comparing them to similar, labeled examples in the training set. This is effective when we want to base predictions not on assumptions about the data but on how similar a new observation is to other known observations. Since we are working with a binary classification (TRUE/FALSE) and want to leverage patterns found in past player behavior, K-NN is a suitable choice for building our predictive model.\n",
    "\n",
    "\n",
    "**We selected the K-Nearest Neighbors (KNN) algorithm because it is non-parametric, easy to understand, and directly influenced by the similarity between features. This cooperates well with our small dataset and helps build an easy understanding of how different features impact prediction outcomes.**\n",
    "\n",
    "**Because our predictors are categorical variables, we performed one-hot encoding to convert them into a numerical format to be used for the KNN algorithm.**\n",
    "\n",
    "**Before modeling, we prepared the dataset as follows:**\n",
    "\n",
    "- Removed unnecessary variables (ie `name`, `hashedEmail`, `gender`)\n",
    "- Removed rows with missing values using na.omit()\n",
    "\n"
   ]
  },
  {
   "cell_type": "code",
   "execution_count": null,
   "id": "4878a168",
   "metadata": {},
   "outputs": [],
   "source": [
    "# load the necessary libraries and packages\n",
    "library(tidyverse)\n",
    "library(class)\n",
    "library(ggplot2)\n",
    "library(repr)\n",
    "library(tidymodels)\n",
    "options(repr.matrix.max.rows = 10)\n",
    "library(recipes)\n",
    "library(themis)\n",
    "library(dplyr)"
   ]
  },
  {
   "cell_type": "code",
   "execution_count": null,
   "id": "5610346d",
   "metadata": {},
   "outputs": [],
   "source": [
    "# Reading players.csv file\n",
    "url_player <- \"https://drive.google.com/uc?id=1pD2UbBtMG1NHjlCo4HYVrvy72jilNUv-\"\n",
    "download.file(url_player, destfile = \"players.csv\")\n",
    "players <- read_csv(\"players.csv\") \n",
    "\n",
    "players_clean <- players |>\n",
    "    select(-hashedEmail, -name, -gender) |>\n",
    "    mutate(subscribe = as.factor(subscribe)) |>\n",
    "    na.omit()\n",
    "\n",
    "# view the first 6 rows of data\n",
    "head(players_clean)"
   ]
  },
  {
   "cell_type": "markdown",
   "id": "d7a024e8-b6b7-4a0a-877e-06e9ed126a6b",
   "metadata": {},
   "source": [
    "Upon inspecting the file, we observed that the number of subscribers exceeds the number of non-subscribers. To verify this, we created a table to compare the counts of each group. As shown below, 73% are subscribers, while 27% are non-subsribers. Given this class imbalance, we will upsample the response variable once we build the model to ensure a more balanced representation."
   ]
  },
  {
   "cell_type": "code",
   "execution_count": null,
   "id": "82f7b3fa-9cda-4c4b-9986-38b1ef8e454f",
   "metadata": {},
   "outputs": [],
   "source": [
    "num_obs <- nrow(players)\n",
    "\n",
    "players_subscribe <- players |>\n",
    "  group_by(subscribe) |>\n",
    "  summarize(\n",
    "    count = n(),\n",
    "    percentage = n() / num_obs * 100\n",
    "  )\n",
    "\n",
    "players_subscribe"
   ]
  },
  {
   "cell_type": "markdown",
   "id": "0dbeb365-2376-4c28-85cb-d10450ecb647",
   "metadata": {},
   "source": [
    "We then summarized numeric features to understand their scale and variance (e.g., max, min, mean)."
   ]
  },
  {
   "cell_type": "code",
   "execution_count": null,
   "id": "ea240e2f",
   "metadata": {},
   "outputs": [],
   "source": [
    "players_clean |> \n",
    "  summarise(\n",
    "    max_hours = max(played_hours),\n",
    "    min_hours = min(played_hours),\n",
    "    mean_hours = mean(played_hours),\n",
    "    max_age = max(Age),\n",
    "    min_age = min(Age),\n",
    "    mean_age = mean(Age)\n",
    "  )\n"
   ]
  },
  {
   "cell_type": "markdown",
   "id": "986e4297-cacf-4725-8c58-3ff3bac8982e",
   "metadata": {},
   "source": [
    "### **Findings on Player Type Differences**  \n",
    "\n",
    "We visualized three relationships:\n",
    "\n",
    "- Subscription Rate by Experience Level\n",
    "\n",
    "- Played Hours vs Subscription\n",
    "\n",
    "- Age Distribution vs Subscription\n",
    "\n",
    "\n",
    "Based on the visualizations generated, we can analyze the vary in characteristics and how these factors influence **subscription behaviour**."
   ]
  },
  {
   "cell_type": "markdown",
   "id": "91bf6e00-2328-489b-9d10-60de5819fe68",
   "metadata": {},
   "source": [
    "**Figure 1** below illustrates subscription rate by experience level."
   ]
  },
  {
   "cell_type": "code",
   "execution_count": null,
   "id": "73d25a9b-dbd6-4dd1-9ed9-2b8a39e3afee",
   "metadata": {},
   "outputs": [],
   "source": [
    "ggplot(players, aes(x = experience, fill = subscribe)) +\n",
    "  geom_bar(position = \"dodge\") +\n",
    "  labs(title = \"Figure 1. Subscription Rate by Experience Level\", x = \"Experience\", y = \"Count\", fill = \"Subscribed\")\n"
   ]
  },
  {
   "cell_type": "markdown",
   "id": "039cefb4-38bc-43f8-9fa9-8309f4fa1a77",
   "metadata": {},
   "source": [
    "**Figure 2** illsutrates the relationship between played hours and subscription below."
   ]
  },
  {
   "cell_type": "code",
   "execution_count": null,
   "id": "d878dfa0-d055-4964-98c4-de6d52a5150b",
   "metadata": {},
   "outputs": [],
   "source": [
    "ggplot(players, aes(x = subscribe, y = played_hours, color = subscribe)) +\n",
    "  geom_boxplot() +\n",
    "  labs(\n",
    "    title = \"Figure 2. Played Hours vs Subscription\",\n",
    "    x = \"Subscribed\",\n",
    "    y = \"Played Hours\",\n",
    "    color = \"Subscribed\"\n",
    "  )\n"
   ]
  },
  {
   "cell_type": "markdown",
   "id": "942d73a2-985d-4b47-8fa3-a3778bb575d3",
   "metadata": {},
   "source": [
    "**Figure 3** below illustrates the distribution of a player's age with subscription."
   ]
  },
  {
   "cell_type": "code",
   "execution_count": null,
   "id": "010d2ae3-3da2-44ed-b8f6-b4337b75d996",
   "metadata": {},
   "outputs": [],
   "source": [
    "ggplot(players, aes(x = Age, fill = subscribe)) +\n",
    "  geom_histogram(bins = 15, alpha = 0.6, position = \"identity\", color = \"black\") +\n",
    "  labs(title = \"Figure 3. Age Distribution by Subscription\", x = \"Age\", y = \"Count\", fill = \"Subscribed\")"
   ]
  },
  {
   "cell_type": "markdown",
   "id": "5319077b-cc24-4077-a6cf-74745ac528ce",
   "metadata": {},
   "source": [
    "\n",
    "#### Experience Level vs Subscription Rate (Figure 1)\n",
    "- Pro and Veteran players have the highest subscription rates, while Regular and Amateur players have lower subscription rates.\n",
    "\n",
    "#### Played Hours vs Subscription (Figure 2)\n",
    "- Subscribed players tend to have higher median played hours.\n",
    "\n",
    "\n",
    "#### Age vs Subscription (Figure 3)\n",
    "- Younger players are more likely to subscribe, while older players (above 30) show a lower subscription rate."
   ]
  },
  {
   "cell_type": "markdown",
   "id": "aaa5ddae-00fc-4682-9d25-7976734dba97",
   "metadata": {},
   "source": [
    "### **Training the Model**  "
   ]
  },
  {
   "cell_type": "markdown",
   "id": "3670ecd3-92a2-4321-a05b-e4dea7e199ab",
   "metadata": {},
   "source": [
    "We first split the dataset into training and test sets using an 70/30 ratio using `initial_split()` function. "
   ]
  },
  {
   "cell_type": "code",
   "execution_count": null,
   "id": "530646a7-298c-4bd8-b37e-505bc7e192e5",
   "metadata": {},
   "outputs": [],
   "source": [
    "set.seed(123)\n",
    "\n",
    "players_split <- initial_split(players_clean, prop = 0.70, strata = subscribe)\n",
    "\n",
    "players_train <- training(players_split)\n",
    "\n",
    "players_test <- testing(players_split)"
   ]
  },
  {
   "cell_type": "markdown",
   "id": "b744ba8d-988d-4eb0-8813-9322f26b1d5f",
   "metadata": {},
   "source": [
    "Then we create the recipe, ensuring to use the `scale()` function to normalize numerical predictors to ensure they are on comparable scales, which is essential for K-NN performance. \n",
    "\n",
    "As mentioned in the introduction, we also perform one-hot encoding through the `step_dummmy()` function to convert `experience` into numeric binary terms. Due to class imbalance (fewer non-subscribers than subscribers), we upsample the subscribe variable using `step_upsample()`. This will create a balanced dataset by replicating non-subscriber cases until both have equal representation. \n",
    "\n",
    "Finally, we define a K-NN model with `nearest_neighbor()` adding the defined recipe and with an initial guess of 3 neighbours which will later be tuned."
   ]
  },
  {
   "cell_type": "code",
   "execution_count": null,
   "id": "7c9c4048-7bba-4fce-95b4-f4b087b10bf3",
   "metadata": {},
   "outputs": [],
   "source": [
    "set.seed(3030) # DO NOT REMOVE\n",
    "players_recipe <- recipe(subscribe ~ Age + experience + played_hours, data = players_clean) |>\n",
    "    step_dummy(experience, one_hot = TRUE) |> # To turn into numeric binary model terms\n",
    "    step_upsample(subscribe, over_ratio = 1) |>  # To upsample subscribers : over_ratio = 1 means 1:1 ratio\n",
    "    step_scale(all_predictors()) |>\n",
    "    step_center(all_predictors()) \n",
    "\n",
    "players_recipe\n",
    "\n",
    "knn_spec <- nearest_neighbor(weight_func = \"rectangular\", neighbors = 3) |>\n",
    "    set_engine(\"kknn\") |>\n",
    "    set_mode(\"classification\")\n"
   ]
  },
  {
   "cell_type": "markdown",
   "id": "69f49e84-cdf2-494d-a30b-335daecf6964",
   "metadata": {},
   "source": [
    "To find the best k value, we can evaluate the accuracy of each k value by performing a 10-fold cross-validation split of our training data using `vfold_cv()` setting strata as our categorical label variable, `subscribe`. The new workflow we create is fit across all cross-validation folds through `fit_resamples()`, and we collect the aggregated performance metrics, quantifying how well our model performs across multiple validation runs.\n",
    "\n",
    "Making a new K-NN specification, we make the number of neighbours as tunable through `tune()`, then create a grid of potential k values ranging from 1 to 40. Using `tune_grid()`, we evaluate each k value with our 10-fold cross-validation. After collecting all results, we filter the accuracy metrics and visualize the relationship between k and model accuracy, and plot the results in Figure 5, showing how model performance varies with k. This helps identify the value where accuracy peaks before overfitting or underfitting potentially occurs.\n",
    "\n",
    "We then select the value of 26 as the best k value."
   ]
  },
  {
   "cell_type": "code",
   "execution_count": null,
   "id": "5f91621b-9b42-4f11-9d95-14ef7e9112a1",
   "metadata": {},
   "outputs": [],
   "source": [
    "set.seed(1010) # DO NOT REMOVE\n",
    "\n",
    "\n",
    "players_vfold <- vfold_cv(players_train, v = 10, strata = subscribe)\n",
    "\n",
    "players_vfold_fit <- workflow() |>\n",
    "    add_recipe(players_recipe) |>\n",
    "    add_model(knn_spec) |>\n",
    "    fit_resamples(resamples = players_vfold)\n",
    "\n",
    "\n",
    "players_metrics <- collect_metrics(players_vfold_fit)\n",
    "\n",
    "knn_tune <- nearest_neighbor(weight_func = \"rectangular\", neighbors = tune()) |>\n",
    "    set_engine(\"kknn\") |>\n",
    "    set_mode(\"classification\")\n",
    "\n",
    "k_vals <- tibble(neighbors = seq(from = 1, to = 40, by = 1))\n",
    "\n",
    "knn_results <- workflow() |>\n",
    "    add_recipe(players_recipe) |>\n",
    "    add_model(knn_tune) |>\n",
    "    tune_grid(resamples = players_vfold, grid = k_vals) |>\n",
    "    collect_metrics()\n",
    "\n",
    "accuracies <- knn_results |>\n",
    "  filter(.metric == \"accuracy\")\n",
    "\n",
    "accuracy_vs_k <- ggplot(accuracies, aes(x = neighbors, y = mean)) +\n",
    "  geom_point() +\n",
    "  geom_line(color = \"blue\") +\n",
    "  labs(\n",
    "    title = \"Figure 5. KNN Accuracy vs K\",\n",
    "    x = \"Number of Neighbors (K)\",\n",
    "    y = \"Prediction Accuracy\"\n",
    "  ) +\n",
    "  theme(text = element_text(size = 12))\n",
    "\n",
    "accuracy_vs_k\n",
    "\n",
    "best_k <- accuracies |>\n",
    "        arrange(desc(mean)) |>\n",
    "        head(1) |>\n",
    "        pull(neighbors)\n",
    "best_k"
   ]
  },
  {
   "cell_type": "markdown",
   "id": "ead9692e-d392-4166-b04c-12e156920182",
   "metadata": {},
   "source": [
    "After identifying the optimal k value from above (`best_k`), we create a new K-NN specification model using this value. The model was combined with the previously preprocessed recipe in a new workflow, which was then fit to our entire training set (`players_train`) to create the final predictive model. "
   ]
  },
  {
   "cell_type": "code",
   "execution_count": null,
   "id": "0742f0b6-e8a6-47ad-a739-f8f94bd2bb59",
   "metadata": {},
   "outputs": [],
   "source": [
    "set.seed(4040) # DO NOT REMOVE\n",
    "\n",
    "# Creating model\n",
    "knn_spec <- nearest_neighbor(weight_func = \"rectangular\", neighbors = best_k) |>\n",
    "  set_engine(\"kknn\") |>\n",
    "  set_mode(\"classification\")\n",
    "\n",
    "knn_fit <- workflow() |>\n",
    "  add_recipe(players_recipe) |>\n",
    "  add_model(knn_spec) |>\n",
    "  fit(data = players_train)\n"
   ]
  },
  {
   "cell_type": "markdown",
   "id": "acbca1bd-2a49-4979-95e3-5976cd8c995a",
   "metadata": {},
   "source": [
    "Using our model, we generate predictions on our test set (`players_test`) to evaluate its performance on unseen data."
   ]
  },
  {
   "cell_type": "code",
   "execution_count": null,
   "id": "3820469e-f96d-4ed8-a110-5326a2dffec4",
   "metadata": {},
   "outputs": [],
   "source": [
    "set.seed(2020) # DO NOT REMOVE\n",
    "\n",
    "players_test_predictions <- predict(knn_fit, players_test) |>\n",
    "  bind_cols(players_test)\n",
    "\n",
    "players_test_predictions \n"
   ]
  },
  {
   "cell_type": "markdown",
   "id": "0d0cae67-e61d-4a18-bd93-a767a8f47b20",
   "metadata": {},
   "source": [
    "Finally, we calculated the accuracy of our model by comparing it with the estimate of the response variable to the actual observation. We first compute the overall classification accuracy, which represents the proportion of correct predictions across all observations. We then examine precision, which measures how many of the predicted positive cases were actually positive. Then, we assess recall , which calculates what proportion of actual positive cases our model has successfully identified."
   ]
  },
  {
   "cell_type": "code",
   "execution_count": null,
   "id": "688158a5-1628-46a2-bd07-080405f1a01c",
   "metadata": {},
   "outputs": [],
   "source": [
    "set.seed(2020) # DO NOT REMOVE\n",
    "\n",
    "players_test_predictions |>\n",
    "  metrics(truth = subscribe, estimate = .pred_class) |>\n",
    "  filter(.metric == \"accuracy\")\n",
    "\n",
    "players_test_predictions |>\n",
    "    precision(truth = subscribe, estimate = .pred_class, event_level=\"first\")\n",
    "\n",
    "players_test_predictions |>\n",
    "    recall(truth = subscribe, estimate = .pred_class, event_level=\"first\")"
   ]
  },
  {
   "cell_type": "markdown",
   "id": "7998d8c2-6f1a-4d5d-9462-e311b4c07a2d",
   "metadata": {},
   "source": [
    "Given our model's suboptimal metrics (71% accuracy, 45% precision, and 31% recall), we can observe the confusion matrix to understand the specific patterns in prediction errors."
   ]
  },
  {
   "cell_type": "code",
   "execution_count": null,
   "id": "3f058bac-dcba-43d3-886b-4d105925c4b6",
   "metadata": {},
   "outputs": [],
   "source": [
    "confusion <- players_test_predictions |>\n",
    "             conf_mat(truth = subscribe, estimate = .pred_class)\n",
    "confusion"
   ]
  },
  {
   "cell_type": "markdown",
   "id": "46db4b3b-0802-4585-9809-6683538a7195",
   "metadata": {},
   "source": [
    "## Discussion"
   ]
  },
  {
   "cell_type": "markdown",
   "id": "ac63c90a-ee74-485c-bc8d-5d601ef2d12d",
   "metadata": {},
   "source": [
    "### **What we found**\n",
    "**Figure 1: Subscription Rate by Experience Level**  \n",
    "The plot clearly shows that players with higher experience levels (Veteran and Pro) have higher subscription rates than Regular or Amateur players. This matches what we expected and supports the assumption that more experienced players are more engaged with the game and, thus, more likely to subscribe. What's more, it may also reflect that experienced players have been in the game longer and had more possibility to see the newsletter option.\n",
    "\n",
    " **Figure 2: Played Hours vs Subscription**  \n",
    "The plot indicates that subscribed players tend to have higher median and maximum playtime. This seems intuitive and matches what we expected—more invested players may want to stay updated. However, it’s also possible that subscription leads to more engagement over time (reverse causality).\n",
    "\n",
    "**Figure 3: Age Distribution by Subscription**  \n",
    "Younger players appear more likely to subscribe. This may reflect digital habits: Younger users tend to be more open to email subscriptions and more accustomed to in-game notifications and marketing. Oppositely, it may be that older users are less willing to accept.                                                              \n",
    "\n",
    "**Predictive Model**  \n",
    "With all things considered, the model is most likely to predict that a young player with a high experience level and a high playtime will be someone who will be subscribed to the newsletter, whereas it will predict an older player with a low experience level and a low playtime as someone who wouldn't subscribe. Overall, the model can predict a player's subscription given their age, experience level, and hours played with about 71% accuracy."
   ]
  },
  {
   "cell_type": "markdown",
   "id": "2f828d70-cd0e-4f78-bf5a-38a6a55f9f9f",
   "metadata": {},
   "source": [
    "### **Impact**  \n",
    "These findings can help game developers better understand user behavior. For example, promotional efforts could be tailored to high-playtime players to increase conversions. Knowing that experience and age influence subscription likelihood, marketing emails could highlight tips, achievements, or community events to attract younger or more engaged players. Furthermore, the game team could also consider promoting newsletter subscriptions through platforms like Instagram and TikTok, which are more popular among younger audiences.  \n",
    "\\\n",
    "What’s more, building a model can help us make predictions because, in reality, users do not only subscribe based on their own preferences but also act in response to the expectations of others. As a result, the final outcome may lead to situations where users with the financial ability to subscribe do not do so (David et al., 2008).  \n",
    "\n",
    "Additionally, the model can be used to further engage with players that the model predicted to be potential subscribers. In other words, for players that the model predicts to be subscribers, further efforts can be made to convince them to subscribe to the newsletter."
   ]
  },
  {
   "cell_type": "markdown",
   "id": "f0172b4f-d645-45ae-92f7-0fbc959704e7",
   "metadata": {},
   "source": [
    "### **Limitations of the Model**\n",
    "After evaluating the KNN classification results (accuracy: 0.7119, precision: 0.4545, recall: 0.3125), we identified several reasons that likely affected the model’s performance. These issues can be grouped into five main parts:\n",
    "\n",
    "**1. Data quality and consistency issues.**  \n",
    "The dataset seems self-reported by players, thus, there are some inconsistencies. For example, some players are labeled as ”Veteran”, but their play hours is 0. Such contradictions indicate data entry errors. A possible solution is to set data filtering rules: ”Veteran” players must have at least 100 hours of game time.\n",
    "\n",
    "**2. The model is sensitive to outliers.**  \n",
    "Extreme values in variables such as played hours or age can interfere with KNN algorithms, which affect classification results.\n",
    "\n",
    "**3. The sample size was insufficient.**  \n",
    "With only 196 players in the dataset, the sample may not be sufficiently representative of the overall player population. In particular, certain groups of people (e.g., older players, non-male genders, or very casual users) may be underrepresented, potentially biasing the model’s conclusions. Expanding the dataset with more diverse and balanced samples would improve the generalizability of the findings.\n",
    "\n",
    "**4. The current prediction ability is relatively weak.**  \n",
    "Variables such as age, played hours, and experience level are not good predictors. These variables may have some correlation with subscription status, but there is no strong relationship. For instance, older players may be more likely to subscribe, but this does not mean that age directly causes subscription behavior (reverse causality). Therefore, these variables may introduce noise in the model’s performance.\n",
    "\n",
    "**5. One of  the more predictive alternative features.**  \n",
    "Platform Bias: The dataset does not capture which channels players encountered or accessed the subscription option. Players who engage primarily via mobile or social platforms might behave differently. Future data collection could include interaction channels to analyze cross-platform behavior differences.\n",
    "\n",
    "According to the Ampere analysis’s data from Q3 of 2023, the content update strategies of various platforms vary: Netflix (mobile), Xbox, and PC have added a large number of games, while some console-based service platforms play a trend of decreasing players. This suggests that players on mobile platforms may be experiencing more dynamic content news (Ampere Analysis et al., 2023).\n"
   ]
  },
  {
   "cell_type": "markdown",
   "id": "8e135907-bae8-4b26-9d67-ac9fee5031ba",
   "metadata": {},
   "source": [
    "### **Future Questions**\n",
    "In this analysis, we only analyze how a player's age, experience level, and played hours can determine their subscription. Thus, for future analysis, we can look into how other player features may impact the likelihood that a player will subscribe to the newsletter or not. For example, we can collect data on whether the player prefers group or solo play, which country they are located in, whether they prefer to play competitively or recreationally, and much more. \n",
    "\n",
    "Additionally, we only used the players' dataset in our analysis. In the future, we could incorporate the time of day the player tends to prefer to game and the frequency of their playing sessions and build a model incorporating these player characteristics."
   ]
  },
  {
   "cell_type": "markdown",
   "id": "28651e19-874e-4a9b-81fa-208a9774e548",
   "metadata": {},
   "source": [
    "## References\n",
    "Barbieri, F. M., & Malueg, D. A. (2008). Private provision of a discrete public good: Continuous‐strategy equilibria in the private‐information subscription game. Journal of Public Economic Theory, 10(4), 703–727. https://doi.org/10.1111/j.1467-9779.2008.00378.x\n",
    " \n",
    "Statista. (2024, March). Number of titles added and removed by video game subscription services during Q3 2023[Graph]. Statista. https://www.statista.com/statistics/1429607/video-game-subscription-services-adding-or-removing-titles-q3-2023/"
   ]
  }
 ],
 "metadata": {
  "kernelspec": {
   "display_name": "R",
   "language": "R",
   "name": "ir"
  },
  "language_info": {
   "codemirror_mode": "r",
   "file_extension": ".r",
   "mimetype": "text/x-r-source",
   "name": "R",
   "pygments_lexer": "r",
   "version": "4.3.3"
  }
 },
 "nbformat": 4,
 "nbformat_minor": 5
}
