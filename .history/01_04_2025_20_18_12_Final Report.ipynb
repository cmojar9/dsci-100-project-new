{
 "cells": [
  {
   "cell_type": "markdown",
   "id": "34735608-2732-48a1-a344-8f8084956bba",
   "metadata": {},
   "source": [
    "# The Influence of Player Behaviour on Newsletter Sign-ups"
   ]
  },
  {
   "cell_type": "markdown",
   "id": "84bea401-0423-405b-b02f-3fe4a857bd0a",
   "metadata": {},
   "source": [
    "## Introduction\n",
    "\n"
   ]
  },
  {
   "cell_type": "markdown",
   "id": "48d89b31-00c2-4bbe-becc-24c07be0e06a",
   "metadata": {},
   "source": [
    "The purpose of this data science project is to analyze and predict player behaviours on a MineCraft server from a collection of data recorded by a UBC Computer Science research group. This includes a list of different players and their playing sessions. This project will focus on exploring the following question: Does a player's age and experience level predict subscription status?\n",
    "\n",
    "To answer this question, we will only be using the dataset which includes the list of different players and their characteristics, which is the players.csv file. By analyzing both the age and the experience level of a player, we will build a predictive model (K-NN Classification) to assess the likelihood of player subscribing to the newsletter based on such characteristics. This will involve exploring the dataset to understand the relationships between these variables and subscription status, followed by a machine learning model to form predictions. \n",
    "\n"
   ]
  },
  {
   "cell_type": "markdown",
   "id": "ca0d2e39-de57-4269-89f0-8e17e0cdf9cd",
   "metadata": {},
   "source": [
    "## Methods"
   ]
  },
  {
   "cell_type": "code",
   "execution_count": null,
   "id": "c8e2b9f6-f0bf-47e6-bcbb-8335cd700982",
   "metadata": {},
   "outputs": [],
   "source": []
  },
  {
   "cell_type": "code",
   "execution_count": null,
   "id": "0fc7d27a-53c1-41be-9b86-66d3a795cd75",
   "metadata": {},
   "outputs": [],
   "source": []
  }
 ],
 "metadata": {
  "kernelspec": {
   "display_name": "R",
   "language": "R",
   "name": "ir"
  },
  "language_info": {
   "codemirror_mode": "r",
   "file_extension": ".r",
   "mimetype": "text/x-r-source",
   "name": "R",
   "pygments_lexer": "r",
   "version": "4.3.3"
  }
 },
 "nbformat": 4,
 "nbformat_minor": 5
}
