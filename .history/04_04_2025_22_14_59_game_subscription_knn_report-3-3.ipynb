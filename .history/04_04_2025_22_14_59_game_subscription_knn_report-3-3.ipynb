{
 "cells": [
  {
   "cell_type": "markdown",
   "id": "bb8f14c9",
   "metadata": {},
   "source": [
    "# Predicting Game Newsletter Subscription Using K-Nearest Neighbors"
   ]
  },
  {
   "cell_type": "markdown",
   "id": "d221cec4",
   "metadata": {},
   "source": [
    "## Introduction\n",
    "The purpose of this data science project is to analyze and predict player behaviours on a Minecraft server based on data collected by a UBC Computer Science research group. This data consisted of two primary files: players.csv and sessions.csv. The players.csv file included detailed information about each player, such as their age, experience level, email, and other personal traits. The sessions.csv file tracked individual play sessions for each player based on their email, including data on session times. \n",
    "\n",
    "\n",
    "\n",
    "### Research Question\n",
    "\n",
    "**What player characteristics and behaviors are most predictive of subscribing to a game-related newsletter, and how do these features differ between various player types?**\n",
    "\n",
    "The specific question we addressed in this project is: \"Can experience level, age, and total hours played predict newsletter subscription?\"\n",
    "\n",
    "By analyzing both the age and the experience level of a player, we will build a predictive model (K-NN Classification) to assess the likelihood of player subscribing to the newsletter based on such characteristics.\n",
    "\n",
    "\n",
    "To answer this question, we focus solely on using the players.csv dataset file, as it includes the relevant characteristics (age and experience level) we will be using to hypothesize a player's subscription behaviour. This will involve exploring the dataset to understand the relationships between these variables and subscription status, followed by the development and assessment of the accuracy of our model to form predictions. \n",
    "\n",
    "\n",
    "\n",
    "### Dataset Description\n",
    "\n",
    "The dataset contains 196 observations with the following variables:\n",
    "\n",
    "- `experience`: Player experience level (Pro, Veteran, Regular, Amateur)\n",
    "- `subscribe`: Whether the player subscribed to the newsletter\n",
    "- `played_hours`: Total hours played\n",
    "- `Age`: Player's age\n",
    "- `gender`: Player's gender\n",
    "- `hashedEmail` and `name`: Removed for irrelevance\n",
    "\n",
    "This analysis uses techniques covered in the DSCI 100 course including data wrangling, visualization, and K-Nearest Neighbors classification.\n"
   ]
  },
  {
   "cell_type": "markdown",
   "id": "cb33330a-c57d-4615-9d75-0794b63df3e0",
   "metadata": {},
   "source": [
    "K-NN classification is a method where the goal is to predict a categorical label, in the case of this project, whether or not a player subscribes based on a player's features.\n",
    "\n",
    "K-NN classifies new observations by comparing them to similar, labeled examples in the training set. This is effective when we want to base predictions not on assumptions about the data, but on how similar a new observation is to other known observations. Since we are working with a binary classification (TRUE/FALSE) and want to leverage patterns found in past player behavior, K-NN is a suitable choice for building our predictive model.\n",
    "\n",
    "\n",
    "\n",
    "\n",
    "\n",
    "\n",
    "\n",
    "**We selected the K-Nearest Neighbors (KNN) algorithm because it is non-parametric, easy to understand, and directly influenced by the similarity between features. This cooperates well with our small dataset and helps build an easy understanding of how different features impact prediction outcomes.**\n",
    "\n",
    "**Because our predictors are categorical variables, we performed one-hot encoding to convert them into a numerical format to be used for the KNN algorithm.**\n",
    "\n",
    "**Before modeling, we prepared the dataset as follows:**\n",
    "\n",
    "- Removed unnecessary variables (name, hashedEmail)\n",
    "- Removed rows with missing values using na.omit()\n",
    "\n"
   ]
  },
  {
   "cell_type": "code",
   "execution_count": null,
   "id": "4878a168",
   "metadata": {},
   "outputs": [],
   "source": [
    "library(tidyverse)\n",
    "library(class)\n",
    "library(ggplot2)\n",
    "library(repr)\n",
    "library(tidymodels)\n",
    "options(repr.matrix.max.rows = 20)\n",
    "library(recipes)\n",
    "library(themis)\n",
    "library(dplyr)\n"
   ]
  },
  {
   "cell_type": "code",
   "execution_count": null,
   "id": "5610346d",
   "metadata": {},
   "outputs": [],
   "source": [
    "# Reading players.csv file\n",
    "\n",
    "players <- read_csv(\"players.csv\") \n",
    "\n",
    "players_clean <- players |>\n",
    "    select(-hashedEmail, -name) |>\n",
    "    mutate(subscribe = as.factor(subscribe)) |>\n",
    "    na.omit()\n",
    "\n",
    "\n",
    "head(players_clean)\n"
   ]
  },
  {
   "cell_type": "markdown",
   "id": "d7a024e8-b6b7-4a0a-877e-06e9ed126a6b",
   "metadata": {},
   "source": [
    "Upon inspecting the file, we observed that the number of subscribers exceeds the number of non-subscribers. To verify this, we created a table to compare the counts of each group. As shown below, 73% are subscribers, while 27% are non-subsribers. Given this class imbalance, we will upsample the response variable once we build the model to ensure a more balanced representation."
   ]
  },
  {
   "cell_type": "code",
   "execution_count": null,
   "id": "82f7b3fa-9cda-4c4b-9986-38b1ef8e454f",
   "metadata": {},
   "outputs": [],
   "source": [
    "num_obs <- nrow(players)\n",
    "\n",
    "players_subscribe <- players |>\n",
    "  group_by(subscribe) |>\n",
    "  summarize(\n",
    "    count = n(),\n",
    "    percentage = n() / num_obs * 100\n",
    "  )\n",
    "\n",
    "players_subscribe"
   ]
  },
  {
   "cell_type": "markdown",
   "id": "0dbeb365-2376-4c28-85cb-d10450ecb647",
   "metadata": {},
   "source": [
    "We then summarized numeric features to understand their scale and variance (e.g., max, min, mean)."
   ]
  },
  {
   "cell_type": "code",
   "execution_count": null,
   "id": "ea240e2f",
   "metadata": {},
   "outputs": [],
   "source": [
    "players_clean |> \n",
    "  summarise(\n",
    "    max_hours = max(played_hours),\n",
    "    min_hours = min(played_hours),\n",
    "    mean_hours = mean(played_hours),\n",
    "    max_age = max(Age),\n",
    "    min_age = min(Age),\n",
    "    mean_age = mean(Age)\n",
    "  )\n"
   ]
  },
  {
   "cell_type": "markdown",
   "id": "986e4297-cacf-4725-8c58-3ff3bac8982e",
   "metadata": {},
   "source": [
    "### **Findings on Player Type Differences**  \n",
    "\n",
    "We visualized three relationships:\n",
    "\n",
    "- Subscription Rate by Experience Level\n",
    "\n",
    "- Played Hours vs Subscription\n",
    "\n",
    "- Age Distribution vs Subscription\n",
    "\n",
    "\n",
    "Based on the visualizations generated, we can analyze the vary in characteristics and how these factors influence **subscription behaviour**."
   ]
  },
  {
   "cell_type": "code",
   "execution_count": null,
   "id": "73d25a9b-dbd6-4dd1-9ed9-2b8a39e3afee",
   "metadata": {},
   "outputs": [],
   "source": [
    "ggplot(players, aes(x = experience, fill = subscribe)) +\n",
    "  geom_bar(position = \"dodge\") +\n",
    "  labs(title = \"Figure 1. Subscription Rate by Experience Level\", x = \"Experience\", y = \"Count\", fill = \"Subscribed\")\n"
   ]
  },
  {
   "cell_type": "code",
   "execution_count": null,
   "id": "d878dfa0-d055-4964-98c4-de6d52a5150b",
   "metadata": {},
   "outputs": [],
   "source": [
    "\n",
    "ggplot(players, aes(x = subscribe, y = played_hours, color = subscribe)) +\n",
    "  geom_point() +\n",
    "  labs(\n",
    "    title = \"Figure 2. Played Hours vs Subscription\",\n",
    "    x = \"Subscribed\",\n",
    "    y = \"Played Hours\"\n",
    "  )\n"
   ]
  },
  {
   "cell_type": "code",
   "execution_count": null,
   "id": "010d2ae3-3da2-44ed-b8f6-b4337b75d996",
   "metadata": {},
   "outputs": [],
   "source": [
    "ggplot(players, aes(x = Age, fill = subscribe)) +\n",
    "  geom_histogram(bins = 15, alpha = 0.6, position = \"identity\", color = \"black\") +\n",
    "  labs(title = \"Figure 3. Age Distribution by Subscription\", x = \"Age\", y = \"Count\", fill = \"Subscribed\")"
   ]
  },
  {
   "cell_type": "code",
   "execution_count": null,
   "id": "0787fead-afc1-4540-8e0f-f94f10d8dc41",
   "metadata": {},
   "outputs": [],
   "source": [
    "# ggplot(players, aes(x = gender, fill = factor(subscribe))) +\n",
    "#   geom_bar(position = \"fill\") +\n",
    "#   labs(\n",
    "#     title = \"Figure 4. Subscription Proportion by Gender\",\n",
    "#     x = \"Gender\",\n",
    "#     y = \"Proportion\",\n",
    "#     fill = \"Subscribed\"\n",
    "#   )"
   ]
  },
  {
   "cell_type": "markdown",
   "id": "5319077b-cc24-4077-a6cf-74745ac528ce",
   "metadata": {},
   "source": [
    "\n",
    "#### **1 Experience Level vs Subscription Rate**\n",
    "- Pro and Veteran players have the highest subscription rates, while Regular and Amateur players have lower subscription rates.\n",
    "\n",
    "#### **2 Played Hours vs Subscription**\n",
    "- Subscribed players tend to have higher median played hours.\n",
    "\n",
    "\n",
    "#### **3 Age vs Subscription**\n",
    "- Younger players are more likely to subscribe, at same time older players (above 30) show a lower subscription rate.\n",
    "\n",
    "- Older players may focus on the playing alone\n"
   ]
  },
  {
   "cell_type": "markdown",
   "id": "aaa5ddae-00fc-4682-9d25-7976734dba97",
   "metadata": {},
   "source": [
    "### **Training the Model (edit this later)**  "
   ]
  },
  {
   "cell_type": "markdown",
   "id": "3670ecd3-92a2-4321-a05b-e4dea7e199ab",
   "metadata": {},
   "source": [
    "We split the dataset into training and test sets using an 80/20 ratio in initial_split(). We used the scale() function to normalize numerical predictors to ensure they are on comparable scales, which is essential for KNN performance."
   ]
  },
  {
   "cell_type": "code",
   "execution_count": null,
   "id": "530646a7-298c-4bd8-b37e-505bc7e192e5",
   "metadata": {},
   "outputs": [],
   "source": [
    " set.seed(123)\n",
    "\n",
    "players_split <- initial_split(players_clean, prop = 0.70, strata = subscribe)\n",
    "\n",
    "players_train <- training(players_split)\n",
    "\n",
    "players_test <- testing(players_split)\n",
    "\n",
    "# glimpse(players_train)\n",
    "colnames(players_train)\n",
    "\n",
    "set.seed(2020)\n",
    "\n",
    "# Split the data into training and testing sets\n",
    "players_split <- initial_split(players_clean, prop = 0.80, strata = subscribe)\n",
    "players_train <- training(players_split)\n",
    "players_test <- testing(players_split)\n",
    "\n",
    "# Define the recipe for preprocessing\n",
    "players_recipe <- recipe(subscribe ~ Age + experience + played_hours, data = players_clean) |>\n",
    "    step_dummy(experience) |> # Convert experience to numeric binary model terms\n",
    "    step_naomit() |>\n",
    "    step_upsample(subscribe, over_ratio = 0.6) |>  # Upsample the subscribe class\n",
    "    step_scale(all_predictors()) |>  # Scale all predictor variables\n",
    "    step_center(all_predictors())  # Center all predictor variables\n",
    "\n",
    "# Prepare the recipe with the training data\n",
    "players_recipe_prep <- prep(players_recipe, training = players_train)\n",
    "\n",
    "# Apply the transformations to both the training and test data\n",
    "players_train_transformed <- bake(players_recipe_prep, new_data = players_train)\n",
    "players_test_transformed <- bake(players_recipe_prep, new_data = players_test)\n",
    "\n",
    "# Define the KNN model specification\n",
    "knn_spec <- nearest_neighbor(weight_func = \"rectangular\", neighbors = tune()) |>\n",
    "    set_engine(\"kknn\") |>\n",
    "    set_mode(\"classification\")\n",
    "\n",
    "# Define the cross-validation splits\n",
    "players_vfold <- vfold_cv(players_train, v = 10, strata = subscribe)\n",
    "\n",
    "# Control for resampling\n",
    "resample_control <- control_resamples(save_pred = TRUE)\n",
    "\n",
    "# Define the workflow for KNN model fitting\n",
    "knn_workflow <- workflow() |>\n",
    "    add_recipe(players_recipe) |>\n",
    "    add_model(knn_spec)\n",
    "\n",
    "# Tune the KNN model using cross-validation to find the best number of neighbors (k)\n",
    "k_vals <- tibble(neighbors = seq(from = 1, to = 20, by = 1))\n",
    "\n",
    "knn_results <- knn_workflow |>\n",
    "    tune_grid(resamples = players_vfold, grid = k_vals) |>\n",
    "    collect_metrics()\n",
    "\n",
    "# Collect accuracy metrics and find the best k\n",
    "accuracies <- knn_results |>\n",
    "  filter(.metric == \"accuracy\")\n",
    "\n",
    "best_k <- accuracies |>\n",
    "    arrange(desc(mean)) |>\n",
    "    head(1) |>\n",
    "    pull(neighbors)\n",
    "\n",
    "best_k\n",
    "\n",
    "# Update the KNN model with the best k value\n",
    "knn_spec_best <- nearest_neighbor(weight_func = \"rectangular\", neighbors = best_k) |>\n",
    "    set_engine(\"kknn\") |>\n",
    "    set_mode(\"classification\")"
   ]
  },
  {
   "cell_type": "code",
   "execution_count": null,
   "id": "d81cd9cf-9621-41cd-87b1-168abb8d22b5",
   "metadata": {},
   "outputs": [],
   "source": [
    "# Update the workflow with the best k\n",
    "\n",
    "colnames(players_train_transformed)\n",
    "knn_workflow_final <- knn_workflow |>\n",
    "    update_model(knn_spec_best)\n",
    "\n",
    "# Fit the final model using the transformed training data\n",
    "knn_final_fit <- fit(knn_workflow_final, data = players_train_transformed)\n",
    "\n",
    "# Make predictions on the test set using the final fitted model\n",
    "knn_predictions <- predict(knn_final_fit, new_data = players_test_transformed)\n",
    "\n",
    "# Evaluate the predictions\n",
    "confusion_matrix <- conf_mat(knn_predictions, truth = subscribe, estimate = .pred_class)\n",
    "\n",
    "# Print the confusion matrix to see the results\n",
    "confusion_matrix\n",
    "\n",
    "\n",
    "# # Fit the model on the entire training data using the best k\n",
    "# knn_final_fit <- fit(knn_workflow_final, data = players_train_transformed)\n",
    "\n",
    "# # Make predictions on the transformed test data\n",
    "# knn_predictions <- predict(knn_final_fit, new_data = players_test_transformed)\n",
    "\n",
    "# # Evaluate the model's performance on the test set\n",
    "# knn_metrics <- metrics(knn_predictions, truth = subscribe)\n",
    "\n",
    "# # Print the evaluation metrics\n",
    "# knn_metrics"
   ]
  },
  {
   "cell_type": "markdown",
   "id": "b744ba8d-988d-4eb0-8813-9322f26b1d5f",
   "metadata": {},
   "source": [
    "Created recipe"
   ]
  },
  {
   "cell_type": "code",
   "execution_count": null,
   "id": "7c9c4048-7bba-4fce-95b4-f4b087b10bf3",
   "metadata": {},
   "outputs": [],
   "source": [
    "set.seed(4040) # DO NOT REMOVEz\n",
    "players_recipe <- recipe(subscribe ~ Age + experience + played_hours, data = players_clean) |>\n",
    "    step_dummy(experience) |> # To turn into numeric binary model terms\n",
    "    step_upsample(subscribe, over_ratio = 1) |>  # To upsample subscribers\n",
    "    step_scale(all_predictors()) |>\n",
    "    step_center(all_predictors()) \n",
    "\n",
    "players_recipe\n",
    "\n",
    "\n",
    "knn_spec <- nearest_neighbor(weight_func = \"rectangular\", neighbors = 3) |>\n",
    "    set_engine(\"kknn\") |>\n",
    "    set_mode(\"classification\")\n",
    "\n"
   ]
  },
  {
   "cell_type": "markdown",
   "id": "69f49e84-cdf2-494d-a30b-335daecf6964",
   "metadata": {},
   "source": [
    "Found best k-value"
   ]
  },
  {
   "cell_type": "code",
   "execution_count": null,
   "id": "5f91621b-9b42-4f11-9d95-14ef7e9112a1",
   "metadata": {},
   "outputs": [],
   "source": [
    "set.seed(2020) # DO NOT REMOVE\n",
    "\n",
    "\n",
    "players_vfold <- vfold_cv(players_train, v = 10, strata = subscribe)\n",
    "\n",
    "resmaple_control <- control_resamples(save_pred = TRUE)\n",
    "\n",
    "\n",
    "players_vfold_fit <- workflow() |>\n",
    "    add_recipe(players_recipe) |>\n",
    "    add_model(knn_spec) |>\n",
    "    fit_resamples(resamples = players_vfold, control = resmaple_control)\n",
    "\n",
    "\n",
    "players_metrics <- collect_metrics(players_vfold_fit)\n",
    "\n",
    "\n",
    "knn_tune <- nearest_neighbor(weight_func = \"rectangular\", neighbors = tune()) |>\n",
    "    set_engine(\"kknn\") |>\n",
    "    set_mode(\"classification\")\n",
    "\n",
    "k_vals <- tibble(neighbors = seq(from = 1, to = 20, by = 1))\n",
    "\n",
    "knn_results <- workflow() |>\n",
    "    add_recipe(players_recipe) |>\n",
    "    add_model(knn_tune) |>\n",
    "    tune_grid(resamples = players_vfold, grid = k_vals) |>\n",
    "    collect_metrics()\n",
    "\n",
    "knn_results\n",
    "\n",
    "accuracies <- knn_results |>\n",
    "  filter(.metric == \"accuracy\")\n",
    "\n",
    "accuracies\n",
    "accuracy_vs_k <- ggplot(accuracies, aes(x = neighbors, y = mean)) +\n",
    "  geom_point() +\n",
    "  geom_line(color = \"blue\") +\n",
    "  labs(\n",
    "    title = \"Figure 5. KNN Accuracy vs K\",\n",
    "    x = \"Number of Neighbors (K)\",\n",
    "    y = \"Prediction Accuracy\"\n",
    "  ) +\n",
    "  theme(text = element_text(size = 12))\n",
    "\n",
    "accuracy_vs_k\n",
    "\n",
    "best_k <- accuracies |>\n",
    "        arrange(desc(mean)) |>\n",
    "        head(1) |>\n",
    "        pull(neighbors)\n",
    "best_k"
   ]
  },
  {
   "cell_type": "code",
   "execution_count": null,
   "id": "d90da06c-c28c-4390-977d-b71dbcba1e6a",
   "metadata": {},
   "outputs": [],
   "source": [
    "# table(players_train$subscribe)\n",
    "# table(players_test$subscribe)\n",
    "# library(yardstick)\n",
    "\n",
    "# players_predictions <- players_vfold_fit |>\n",
    "#   collect_predictions()\n",
    "\n",
    "# conf_mat(players_predictions, truth = subscribe, estimate = .pred_class)\n",
    "\n",
    "# rec <- prep(players_recipe)\n",
    "# baked_data <- bake(rec, new_data = NULL)\n",
    "\n",
    "# table(baked_data$subscribe)"
   ]
  },
  {
   "cell_type": "markdown",
   "id": "ead9692e-d392-4166-b04c-12e156920182",
   "metadata": {},
   "source": [
    "We tested K values from 1 to 20 and calculated test accuracy for each value. The result was plotted as Figure 5, showing how model performance varies with K.\n",
    "\n",
    "We selected the value of 15 as the best k value."
   ]
  },
  {
   "cell_type": "code",
   "execution_count": null,
   "id": "0742f0b6-e8a6-47ad-a739-f8f94bd2bb59",
   "metadata": {},
   "outputs": [],
   "source": [
    "set.seed(2020) # DO NOT REMOVE\n",
    "\n",
    "# Creating model\n",
    "knn_spec <- nearest_neighbor(weight_func = \"rectangular\", neighbors = best_k) |>\n",
    "  set_engine(\"kknn\") |>\n",
    "  set_mode(\"classification\")\n",
    "\n",
    "knn_fit <- workflow() |>\n",
    "  add_recipe(players_recipe) |>\n",
    "  add_model(knn_spec) |>\n",
    "  fit(data = players_train)\n",
    "\n",
    "knn_fit\n",
    "\n"
   ]
  },
  {
   "cell_type": "code",
   "execution_count": null,
   "id": "3820469e-f96d-4ed8-a110-5326a2dffec4",
   "metadata": {},
   "outputs": [],
   "source": [
    "set.seed(2020) # DO NOT REMOVE\n",
    "\n",
    "players_test_predictions <- predict(knn_fit, players_test) |>\n",
    "  bind_cols(players_test)\n",
    "\n",
    "players_test_predictions \n"
   ]
  },
  {
   "cell_type": "code",
   "execution_count": null,
   "id": "688158a5-1628-46a2-bd07-080405f1a01c",
   "metadata": {},
   "outputs": [],
   "source": [
    "set.seed(2020) # DO NOT REMOVE\n",
    "\n",
    "players_test_predictions |>\n",
    "  metrics(truth = subscribe, estimate = .pred_class) |>\n",
    "  filter(.metric == \"accuracy\")\n",
    "\n",
    "players_test_predictions |>\n",
    "    precision(truth = subscribe, estimate = .pred_class, event_level=\"first\")\n",
    "\n",
    "players_test_predictions |>\n",
    "    recall(truth = subscribe, estimate = .pred_class, event_level=\"first\")"
   ]
  },
  {
   "cell_type": "code",
   "execution_count": null,
   "id": "3f058bac-dcba-43d3-886b-4d105925c4b6",
   "metadata": {},
   "outputs": [],
   "source": [
    "confusion <- players_test_predictions |>\n",
    "             conf_mat(truth = subscribe, estimate = .pred_class)\n",
    "confusion"
   ]
  },
  {
   "cell_type": "markdown",
   "id": "ac63c90a-ee74-485c-bc8d-5d601ef2d12d",
   "metadata": {},
   "source": [
    "## Discussion\n",
    "**Figure 1: Subscription Rate by Experience Level**\n",
    "\n",
    "Analysis:\n",
    "The plot clearly shows that players with higher experience levels (Veteran and Pro) have higher subscription rates than Regular or Amateur players. This supports the assumption that more experienced players are more engaged with the game and thus more likely to subscribe. What's more, it may also reflect that experienced players have been in the game longer and had more possibility to see the newsletter option.\n",
    "\n",
    " **Figure 2: Played Hours vs Subscription (Boxplot)**\n",
    "\n",
    "Analysis :\n",
    "The boxplot indicates that subscribed players tend to have higher median and maximum playtime. This seems intuitive—more invested players may want to stay updated. However, it’s also possible that subscription leads to more engagement over time (reverse causality)\n",
    "\n",
    "**Figure 3:Age Distribution by Subscription**\n",
    "\n",
    "Analysis :\n",
    "Younger players appear more likely to subscribe. This may reflect digital habits: younger users tend to be more open to email subscriptions, and more accustomed to in-game notifications and marketing. Oppoesitely, it may be that older users are less willing o accpect                                                                 \n",
    "\n",
    "**Figure 4: Subscription Count by Gender**\n",
    "\n",
    "Analysis :\n",
    "There is a small difference in subscription counts between male and non-male players. However, the difference is minor and may not be statistically meaningful. "
   ]
  },
  {
   "cell_type": "markdown",
   "id": "a9611698-adda-4d98-8e19-4e91905c071f",
   "metadata": {},
   "source": [
    "These results mostly align with our expectations. It’s true that highly engaged players—those who play longer or identify as experienced—are more likely to subscribe. These players may have a greater emotional investment in the game, and thus are more interested in receiving updates and special content. The limited effect of gender was also expected, as gender is often a weak predictor unless the product is gender-targeted."
   ]
  },
  {
   "cell_type": "markdown",
   "id": "cd2c4f65-4faa-4859-83a1-454a237844b7",
   "metadata": {},
   "source": [
    "These findings can help game developers better understand user behavior. For example, promotional efforts could be tailored to high-playtime players to increase conversions. Knowing that experience and age influence subscription likelihood, marketing emails could highlight tips, achievements, or community events to attract younger or more engaged players.Furthermore,The game team could also consider promoting newsletter subscriptions through platforms like Instagram and TikTok, which are more popular among younger audiences."
   ]
  },
  {
   "cell_type": "code",
   "execution_count": null,
   "id": "e0457c54-32d7-4c8a-93c5-985c8b76a851",
   "metadata": {},
   "outputs": [],
   "source": []
  },
  {
   "cell_type": "markdown",
   "id": "bff152ae-af5e-46a7-a9a3-51178baf1a6f",
   "metadata": {},
   "source": [
    "## Project Limitations and Improvements\n",
    "**Sample Size**: With only 196 players in the dataset, the sample may not be sufficiently representative of the overall player population. In particular, certain groups of people (e.g., older players, non-male genders, or very casual users) may be underrepresented, potentially biasing the model’s conclusions. Expanding the dataset with more diverse and balanced samples would improve the robustness and generalizability of the findings.\n",
    "\n",
    "**Feature Limitation**: The model currently relies on a limited set of variables: age, gender, experience, and total playtime. These features, while relevant, provide only a static snapshot of user behavior. Incorporating dynamic behavioral indicators such as login frequency, session duration, recent activity, or interaction with in-game content could significantly enhance predictive power. Behavioral features often capture intent and engagement more effectively than static demographics.\n",
    "\n",
    "**Platform Bias**: The dataset does not capture from which channels players encountered or accessed the subscription option. Players who engage primarily via mobile or social platforms might behave differently. Future data collection could include interaction channels to analyze cross-platform behavior differences."
   ]
  }
 ],
 "metadata": {
  "kernelspec": {
   "display_name": "R",
   "language": "R",
   "name": "ir"
  },
  "language_info": {
   "codemirror_mode": "r",
   "file_extension": ".r",
   "mimetype": "text/x-r-source",
   "name": "R",
   "pygments_lexer": "r",
   "version": "4.3.3"
  }
 },
 "nbformat": 4,
 "nbformat_minor": 5
}
