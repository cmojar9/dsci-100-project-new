{
 "cells": [
  {
   "cell_type": "code",
   "execution_count": null,
   "id": "af9bab8b-42cf-46ae-a862-4bbbdb02f705",
   "metadata": {},
   "outputs": [],
   "source": [
    "library(tidyverse)\n",
    "library(repr)\n",
    "library(tidymodels)\n",
    "options(repr.matrix.max.rows = 6)\n",
    "set.seed(4235)"
   ]
  },
  {
   "cell_type": "code",
   "execution_count": null,
   "id": "28c68ae8-bc2d-45e2-b5c4-3b4c8c599da7",
   "metadata": {},
   "outputs": [],
   "source": [
    "players <- read_csv(\"players.csv\")\n",
    "players"
   ]
  },
  {
   "cell_type": "markdown",
   "id": "e9ab537a-f715-4efc-ae0f-f5b4547a7cc8",
   "metadata": {},
   "source": [
    "## KNN Classification \n",
    "### Predictors: Age, Hours\n",
    "### Predicting: Subscription"
   ]
  },
  {
   "cell_type": "code",
   "execution_count": null,
   "id": "90fe46d1-c2e2-40a4-9d12-1000028a489e",
   "metadata": {},
   "outputs": [],
   "source": [
    "# remove NA values\n",
    "players <- na.omit(players)\n",
    "players"
   ]
  },
  {
   "cell_type": "code",
   "execution_count": null,
   "id": "0b1e1b83-dc82-4c05-9bbe-b35518198cbf",
   "metadata": {},
   "outputs": [],
   "source": [
    "# CHOOSE K VALUE\n",
    "# split data\n",
    "players_split <- initial_split(players, prop = 0.7, strata = subscribe)\n",
    "players_training <- training(players_split)\n",
    "player_testing <- testing(players_split)\n",
    "\n",
    "# find k\n",
    "knn_spec <- nearest_neighbor(weight = \"rectangular\", neighbors = tune()) |>\n",
    "    set_engine(\"kknn\") |>\n",
    "    set_mode(\"classification\")\n",
    "\n",
    "player_vfold <- vfold_cv(players_training, v = 10, strata = subscribe)\n",
    "\n",
    "k_vals <- tibble(neighbors = seq(1, 30, 1))\n",
    "\n",
    "knn_results <- "
   ]
  }
 ],
 "metadata": {
  "kernelspec": {
   "display_name": "R",
   "language": "R",
   "name": "ir"
  },
  "language_info": {
   "codemirror_mode": "r",
   "file_extension": ".r",
   "mimetype": "text/x-r-source",
   "name": "R",
   "pygments_lexer": "r",
   "version": "4.3.3"
  }
 },
 "nbformat": 4,
 "nbformat_minor": 5
}
