{
 "cells": [
  {
   "cell_type": "markdown",
   "id": "bb8f14c9",
   "metadata": {},
   "source": [
    "# Predicting Game Newsletter Subscription Using K-Nearest Neighbors"
   ]
  },
  {
   "cell_type": "markdown",
   "id": "d221cec4",
   "metadata": {},
   "source": [
    "## Introduction\n",
    "The purpose of this data science project is to analyze and predict player behaviours on a Minecraft server based on data collected by a UBC Computer Science research group. This data consisted of two primary files: players.csv and sessions.csv. The players.csv file included detailed information about each player, such as their age, experience level, email, and other personal traits. The sessions.csv file tracked individual play sessions for each player based on their email, including data on session times. The specific question we addressed in this project is: Do players' age and experience level corellate to subscription status?\n",
    "\n",
    "By analyzing both the age and the experience level of a player, we will build a predictive model (K-NN Classification) to assess the likelihood of player subscribing to the newsletter based on such characteristics.\n",
    "\n",
    "\n",
    "To answer this question, we focus solely on using the players.csv dataset file, as it includes the relevant characteristics (age and experience level) we will be using to hypothesize a player's subscription behaviour. This will involve exploring the dataset to understand the relationships between these variables and subscription status, followed by the development and assessment of the accuracy of our model to form predictions. \n",
    "\n",
    "\n",
    "\n",
    "### Research Question\n",
    "\n",
    "**What player characteristics and behaviors are most predictive of subscribing to a game-related newsletter, and how do these features differ between various player types?**\n",
    "\n",
    "### Dataset Description\n",
    "\n",
    "The dataset contains 196 observations with the following variables:\n",
    "\n",
    "- `experience`: Player experience level (Pro, Veteran, Regular, Amateur)\n",
    "- `subscribe`: Whether the player subscribed to the newsletter\n",
    "- `played_hours`: Total hours played\n",
    "- `Age`: Player's age\n",
    "- `gender`: Player's gender\n",
    "- `hashedEmail` and `name`: Removed for irrelevance\n",
    "\n",
    "This analysis uses techniques covered in the DSCI 100 course including data wrangling, visualization, and K-Nearest Neighbors classification.\n"
   ]
  },
  {
   "cell_type": "markdown",
   "id": "cb33330a-c57d-4615-9d75-0794b63df3e0",
   "metadata": {},
   "source": [
    "**Our goal was to predict whether a player would subscribe to a game newsletter based on a set of player's feature. Since the target variable (subscribe) is binary (TRUE/FALSE), we framed this as a classification problem.**\n",
    "\n",
    "**We selected the K-Nearest Neighbors (KNN) algorithm because it is non-parametric, easy to understand, and directly influenced by the similarity between features. This cooperate well with our small dataset and helps build an easy understanding of how different features impact prediction outcomes.**\n",
    "\n",
    "**Because our predictors are categorical variables, we performed one-hot encoding to convert them into a numerical format to be used for KNN algorithm.**\n",
    "\n",
    "**Before modeling, we prepared the dataset as follows:**\n",
    "\n",
    "Removed unnecessary variables (name, hashedEmail)\n",
    "Converted categorical variables into numeric values:\n",
    "experience: Pro = 3, Veteran = 2, Regular = 1, Amateur = 0\n",
    "gender: Male = 1, Others = 0\n",
    "Transformed logical subscribe column to numeric (1 or 0)\n",
    "Removed rows with missing values using drop_na()\n",
    "\n",
    "We summarized numeric features to understand their scale and variance (e.g., max, min, mean). We visualized four relationships:\n",
    "\n",
    "- Subscription Rate by Experience Level\n",
    "\n",
    "- Played Hours vs Subscription\n",
    "\n",
    "- Age Distribution vs Subscription\n",
    "\n",
    "- Gender vs Subscription Rate"
   ]
  },
  {
   "cell_type": "code",
   "execution_count": null,
   "id": "4878a168",
   "metadata": {},
   "outputs": [],
   "source": [
    "library(tidyverse)\n",
    "library(class)\n",
    "library(rsample)\n",
    "library(purrr)\n",
    "\n",
    "\n",
    "\n"
   ]
  },
  {
   "cell_type": "code",
   "execution_count": null,
   "id": "5610346d",
   "metadata": {},
   "outputs": [],
   "source": [
    "\n",
    "players <- read_csv(\"players.csv\")\n",
    "\n",
    "players_clean <- players |>\n",
    "  select(-hashedEmail, -name) |>\n",
    "  mutate(\n",
    "    subscribe = as.numeric(subscribe),\n",
    "    gender = ifelse(gender == \"Male\", 1, 0),\n",
    "    experience = case_when(\n",
    "      experience == \"Pro\" ~ 3,\n",
    "      experience == \"Veteran\" ~ 2,\n",
    "      experience == \"Regular\" ~ 1,\n",
    "      experience == \"Amateur\" ~ 0,\n",
    "      TRUE ~ NA_real_)\n",
    "  ) |>\n",
    "  drop_na()\n",
    "\n",
    "head(players_clean)\n"
   ]
  },
  {
   "cell_type": "code",
   "execution_count": null,
   "id": "ea240e2f",
   "metadata": {},
   "outputs": [],
   "source": [
    "\n",
    "players_clean |> \n",
    "  summarise(\n",
    "    max_hours = max(played_hours),\n",
    "    min_hours = min(played_hours),\n",
    "    mean_hours = mean(played_hours),\n",
    "    max_age = max(Age),\n",
    "    min_age = min(Age),\n",
    "    mean_age = mean(Age)\n",
    "  )\n"
   ]
  },
  {
   "cell_type": "code",
   "execution_count": null,
   "id": "48f51bc9-8bd3-4db3-85a2-4efda7586d31",
   "metadata": {},
   "outputs": [],
   "source": []
  },
  {
   "cell_type": "code",
   "execution_count": null,
   "id": "55ebdbfb-0512-4fa7-9606-9af5f5770e94",
   "metadata": {},
   "outputs": [],
   "source": []
  },
  {
   "cell_type": "code",
   "execution_count": null,
   "id": "092071af-5313-403a-9b50-eec0ccc1925d",
   "metadata": {},
   "outputs": [],
   "source": [
    "\n"
   ]
  },
  {
   "cell_type": "code",
   "execution_count": null,
   "id": "73d25a9b-dbd6-4dd1-9ed9-2b8a39e3afee",
   "metadata": {},
   "outputs": [],
   "source": [
    "ggplot(players, aes(x = experience, fill = factor(subscribe))) +\n",
    "  geom_bar(position = \"dodge\") +\n",
    "  labs(title = \"Figure 1. Subscription Rate by Experience Level\", x = \"Experience\", y = \"Count\", fill = \"Subscribed\")\n"
   ]
  },
  {
   "cell_type": "code",
   "execution_count": null,
   "id": "d878dfa0-d055-4964-98c4-de6d52a5150b",
   "metadata": {},
   "outputs": [],
   "source": [
    "ggplot(players, aes(x = factor(subscribe), y = played_hours)) +\n",
    "  geom_boxplot() +\n",
    "  labs(\n",
    "    title = \"Figure 2. Played Hours vs Subscription\",\n",
    "    x = \"Subscribed\",\n",
    "    y = \"Played Hours\"\n",
    "  )\n"
   ]
  },
  {
   "cell_type": "code",
   "execution_count": null,
   "id": "010d2ae3-3da2-44ed-b8f6-b4337b75d996",
   "metadata": {},
   "outputs": [],
   "source": [
    "ggplot(players, aes(x = Age, fill = factor(subscribe))) +\n",
    "  geom_histogram(bins = 15, alpha = 0.6, position = \"identity\", color = \"black\") +\n",
    "  labs(title = \"Figure 3. Age Distribution by Subscription\", x = \"Age\", y = \"Count\", fill = \"Subscribed\")"
   ]
  },
  {
   "cell_type": "code",
   "execution_count": null,
   "id": "0787fead-afc1-4540-8e0f-f94f10d8dc41",
   "metadata": {},
   "outputs": [],
   "source": [
    "ggplot(players, aes(x = gender, fill = factor(subscribe))) +\n",
    "  geom_bar(position = \"fill\") +\n",
    "  labs(\n",
    "    title = \"Figure 4. Subscription Proportion by Gender\",\n",
    "    x = \"Gender\",\n",
    "    y = \"Proportion\",\n",
    "    fill = \"Subscribed\"\n",
    "  )"
   ]
  },
  {
   "cell_type": "markdown",
   "id": "5319077b-cc24-4077-a6cf-74745ac528ce",
   "metadata": {},
   "source": [
    "### **Findings on Player Type Differences**  \n",
    "\n",
    "Based on the visualizations generated, we can analyze the vary in characteristics and how these factors influence **subscription behaviour**.\n",
    "\n",
    "\n",
    "\n",
    "#### **1 Experience Level vs Subscription Rate**\n",
    "- Pro and Veteran players have the highest subscription rates, while Regular and Amateur players have lower subscription rates.\n",
    "\n",
    "#### **2 Played Hours vs Subscription**\n",
    "- Subscribed players tend to have higher median played hours.\n",
    "\n",
    "\n",
    "#### **3 Age vs Subscription**\n",
    "- Younger players are more likely to subscribe, at same time older players (above 30) show a lower subscription rate.\n",
    "\n",
    "- Older players may focus on the playing alone\n",
    "\n",
    "\n",
    "#### **4 Gender vs Subscription**\n",
    "- Male players have a slightly higher subscription rate than female players, but overall, gender plays a slight effect on subscription behavior."
   ]
  },
  {
   "cell_type": "code",
   "execution_count": null,
   "id": "530646a7-298c-4bd8-b37e-505bc7e192e5",
   "metadata": {},
   "outputs": [],
   "source": [
    "set.seed(123)\n",
    "\n",
    "train <- initial_split(cancer, prop = 0.80, strata = Class)\n",
    "cancer_train <- training(cancer_split)\n",
    "cancer_test <- testing(cancer_split)\n",
    "\n",
    "train <- initial_split()\n",
    "\n",
    "\n",
    "\n",
    "\n",
    "train_X <- train |> \n",
    "  select(played_hours, Age, experience, gender) |> \n",
    "  mutate(across(everything(), scale))\n",
    "\n",
    "\n",
    "test_X <- test |> \n",
    "  select(played_hours, Age, experience, gender) |> \n",
    "  mutate(across(everything(), scale))\n",
    "\n",
    "\n",
    "\n"
   ]
  },
  {
   "cell_type": "markdown",
   "id": "69f49e84-cdf2-494d-a30b-335daecf6964",
   "metadata": {},
   "source": [
    "We split the dataset into training and test sets using an 80/20 ratio in initial_split(). We used the scale() function to normalize numerical predictors to ensure they are on comparable scales, which is essential for KNN performance."
   ]
  },
  {
   "cell_type": "code",
   "execution_count": null,
   "id": "5f91621b-9b42-4f11-9d95-14ef7e9112a1",
   "metadata": {},
   "outputs": [],
   "source": [
    "\n",
    "\n",
    "train_X <- train |> select(played_hours, Age, experience, gender)\n",
    "train_y <- train |> pull(subscribe)\n",
    "test_X <- test |> select(played_hours, Age, experience, gender)\n",
    "test_y <- test |> pull(subscribe)"
   ]
  },
  {
   "cell_type": "code",
   "execution_count": null,
   "id": "b05a0ed5-8288-4bc4-8d30-e6dfbcc5f919",
   "metadata": {},
   "outputs": [],
   "source": [
    "\n",
    "accuracies <- c()\n",
    "\n",
    "\n",
    "for (k in 1:20) {\n",
    "  prediction <- knn(train_X, test_X, cl = train_y, k = k)\n",
    "  accuracy <- mean(prediction == test_y)\n",
    "  accuracies <- c(accuracies, accuracy)\n",
    "}\n",
    "\n",
    "\n",
    "accuracy_df <- tibble(\n",
    "  k = 1:20,\n",
    "  accuracy = accuracies\n",
    ")\n",
    "\n",
    "\n",
    "ggplot(accuracy_df, aes(x = k, y = accuracy)) +\n",
    "  geom_line(color = \"blue\") +\n",
    "  labs(\n",
    "    title = \"Figure 5. KNN Accuracy vs K\",\n",
    "    x = \"Number of Neighbors (K)\",\n",
    "    y = \"Prediction Accuracy\"\n",
    "  )\n",
    "\n",
    "\n",
    "best_k <- accuracy_df |> \n",
    "  filter(accuracy == max(accuracy)) |> \n",
    "  pull(k)\n",
    "\n",
    "best_k\n"
   ]
  },
  {
   "cell_type": "markdown",
   "id": "ead9692e-d392-4166-b04c-12e156920182",
   "metadata": {},
   "source": [
    "We tested K values from 1 to 20 and calculated test accuracy for each value. This was implemented using a loop and knn() from the package. The result was plotted as Figure 5, showing how model performance varies with K.\n",
    "\n",
    "\n",
    "We selected the value of 20 as the best k value."
   ]
  },
  {
   "cell_type": "markdown",
   "id": "ac63c90a-ee74-485c-bc8d-5d601ef2d12d",
   "metadata": {},
   "source": [
    "## Discussion\n",
    "**Figure 1: Subscription Rate by Experience Level**\n",
    "\n",
    "Analysis:\n",
    "The plot clearly shows that players with higher experience levels (Veteran and Pro) have higher subscription rates than Regular or Amateur players. This supports the assumption that more experienced players are more engaged with the game and thus more likely to subscribe. What's more, it may also reflect that experienced players have been in the game longer and had more possibility to see the newsletter option.\n",
    "\n",
    " **Figure 2: Played Hours vs Subscription (Boxplot)**\n",
    "\n",
    "Analysis :\n",
    "The boxplot indicates that subscribed players tend to have higher median and maximum playtime. This seems intuitive—more invested players may want to stay updated. However, it’s also possible that subscription leads to more engagement over time (reverse causality)\n",
    "\n",
    "**Figure 3:Age Distribution by Subscription**\n",
    "\n",
    "Analysis :\n",
    "Younger players appear more likely to subscribe. This may reflect digital habits: younger users tend to be more open to email subscriptions, and more accustomed to in-game notifications and marketing. Oppoesitely, it may be that older users are less willing o accpect                                                                 **Figure 4: Subscription Count by Gender**\n",
    "\n",
    "Analysis :\n",
    "There is a small difference in subscription counts between male and non-male players. However, the difference is minor and may not be statistically meaningful. "
   ]
  },
  {
   "cell_type": "markdown",
   "id": "a9611698-adda-4d98-8e19-4e91905c071f",
   "metadata": {},
   "source": [
    "These results mostly align with our expectations. It’s true that highly engaged players—those who play longer or identify as experienced—are more likely to subscribe. These players may have a greater emotional investment in the game, and thus are more interested in receiving updates and special content. The limited effect of gender was also expected, as gender is often a weak predictor unless the product is gender-targeted."
   ]
  },
  {
   "cell_type": "markdown",
   "id": "cd2c4f65-4faa-4859-83a1-454a237844b7",
   "metadata": {},
   "source": [
    "These findings can help game developers better understand user behavior. For example, promotional efforts could be tailored to high-playtime players to increase conversions. Knowing that experience and age influence subscription likelihood, marketing emails could highlight tips, achievements, or community events to attract younger or more engaged players.Furthermore,The game team could also consider promoting newsletter subscriptions through platforms like Instagram and TikTok, which are more popular among younger audiences."
   ]
  },
  {
   "cell_type": "markdown",
   "id": "bff152ae-af5e-46a7-a9a3-51178baf1a6f",
   "metadata": {},
   "source": [
    "## Project Limitations and Improvements\n",
    "**Sample Size**: With only 196 players in the dataset, the sample may not be sufficiently representative of the overall player population. In particular, certain groups of people (e.g., older players, non-male genders, or very casual users) may be underrepresented, potentially biasing the model’s conclusions. Expanding the dataset with more diverse and balanced samples would improve the robustness and generalizability of the findings.\n",
    "\n",
    "**Feature Limitation**: The model currently relies on a limited set of variables: age, gender, experience, and total playtime. These features, while relevant, provide only a static snapshot of user behavior. Incorporating dynamic behavioral indicators such as login frequency, session duration, recent activity, or interaction with in-game content could significantly enhance predictive power. Behavioral features often capture intent and engagement more effectively than static demographics.\n",
    "\n",
    "**Platform Bias**: The dataset does not capture from which channels players encountered or accessed the subscription option. Players who engage primarily via mobile or social platforms might behave differently. Future data collection could include interaction channels to analyze cross-platform behavior differences."
   ]
  }
 ],
 "metadata": {
  "kernelspec": {
   "display_name": "R",
   "language": "R",
   "name": "ir"
  },
  "language_info": {
   "codemirror_mode": "r",
   "file_extension": ".r",
   "mimetype": "text/x-r-source",
   "name": "R",
   "pygments_lexer": "r",
   "version": "4.3.3"
  }
 },
 "nbformat": 4,
 "nbformat_minor": 5
}
