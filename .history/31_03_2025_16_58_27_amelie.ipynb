{
 "cells": [
  {
   "cell_type": "markdown",
   "id": "c2b7ef6f-eaad-4e63-a229-e8cd5a275de1",
   "metadata": {},
   "source": [
    "Load Data"
   ]
  },
  {
   "cell_type": "code",
   "execution_count": null,
   "id": "b8aecd1d-2148-4390-9d9e-ed502e30a58e",
   "metadata": {},
   "outputs": [],
   "source": [
    "players "
   ]
  }
 ],
 "metadata": {
  "kernelspec": {
   "display_name": "R",
   "language": "R",
   "name": "ir"
  },
  "language_info": {
   "codemirror_mode": "r",
   "file_extension": ".r",
   "mimetype": "text/x-r-source",
   "name": "R",
   "pygments_lexer": "r",
   "version": "4.3.3"
  }
 },
 "nbformat": 4,
 "nbformat_minor": 5
}
